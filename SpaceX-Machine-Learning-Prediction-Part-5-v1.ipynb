{
 "cells": [
  {
   "cell_type": "markdown",
   "metadata": {
    "id": "8b681e22-2c03-4a90-a5aa-a66b2064b828"
   },
   "source": [
    "<p style=\"text-align:center\">\n",
    "    <a href=\"https://skills.network/?utm_medium=Exinfluencer&utm_source=Exinfluencer&utm_content=000026UJ&utm_term=10006555&utm_id=NA-SkillsNetwork-Channel-SkillsNetworkCoursesIBMDS0321ENSkillsNetwork26802033-2022-01-01\" target=\"_blank\">\n",
    "    <img src=\"https://cf-courses-data.s3.us.cloud-object-storage.appdomain.cloud/assets/logos/SN_web_lightmode.png\" width=\"200\" alt=\"Skills Network Logo\">\n",
    "    </a>\n",
    "</p>\n"
   ]
  },
  {
   "cell_type": "markdown",
   "metadata": {
    "id": "f5bea8a2-32b0-484c-b57f-46d5ebcc2071"
   },
   "source": [
    "# **Space X  Falcon 9 First Stage Landing Prediction**\n"
   ]
  },
  {
   "cell_type": "markdown",
   "metadata": {
    "id": "db536aac-35ff-4e08-bd99-ae09e7cc3417"
   },
   "source": [
    "## Hands on Lab: Complete the Machine Learning Prediction lab\n"
   ]
  },
  {
   "cell_type": "markdown",
   "metadata": {
    "id": "492b87ad-e2a5-41f3-bbe8-0ad8538de6b7"
   },
   "source": [
    "Estimated time needed: **60** minutes\n"
   ]
  },
  {
   "cell_type": "markdown",
   "metadata": {
    "id": "165d136e-ede7-49c9-8282-be04255c1b69"
   },
   "source": [
    "Space X advertises Falcon 9 rocket launches on its website with a cost of 62 million dollars; other providers cost upward of 165 million dollars each, much of the savings is because Space X can reuse the first stage. Therefore if we can determine if the first stage will land, we can determine the cost of a launch. This information can be used if an alternate company wants to bid against space X for a rocket launch.   In this lab, you will create a machine learning pipeline  to predict if the first stage will land given the data from the preceding labs.\n"
   ]
  },
  {
   "cell_type": "markdown",
   "metadata": {
    "id": "a3502279-c87c-4494-9799-0974bc980e3b"
   },
   "source": [
    "![](https://cf-courses-data.s3.us.cloud-object-storage.appdomain.cloud/IBMDeveloperSkillsNetwork-DS0701EN-SkillsNetwork/api/Images/landing_1.gif)\n"
   ]
  },
  {
   "cell_type": "markdown",
   "metadata": {
    "id": "4fa3a01f-845d-41ea-b270-b4bf5bf288d5"
   },
   "source": [
    "Several examples of an unsuccessful landing are shown here:\n"
   ]
  },
  {
   "cell_type": "markdown",
   "metadata": {
    "id": "a1a65dc9-efa1-4712-ad5e-c2f09aea28ea"
   },
   "source": [
    "![](https://cf-courses-data.s3.us.cloud-object-storage.appdomain.cloud/IBMDeveloperSkillsNetwork-DS0701EN-SkillsNetwork/api/Images/crash.gif)\n"
   ]
  },
  {
   "cell_type": "markdown",
   "metadata": {
    "id": "1b6bbc71-b199-4ead-b561-74e36a31466e"
   },
   "source": [
    "Most unsuccessful landings are planed. Space X; performs a controlled landing in the oceans.\n"
   ]
  },
  {
   "cell_type": "markdown",
   "metadata": {
    "id": "815717b3-3ebd-4eec-a8a0-f83f0c7c4fc8"
   },
   "source": [
    "## Objectives\n"
   ]
  },
  {
   "cell_type": "markdown",
   "metadata": {
    "id": "065ac60b-4bc6-4e1e-83d3-3e175031e60f"
   },
   "source": [
    "Perform exploratory  Data Analysis and determine Training Labels\n",
    "\n",
    "*   create a column for the class\n",
    "*   Standardize the data\n",
    "*   Split into training data and test data\n",
    "\n",
    "\\-Find best Hyperparameter for SVM, Classification Trees and Logistic Regression\n",
    "\n",
    "*   Find the method performs best using test data\n"
   ]
  },
  {
   "cell_type": "markdown",
   "metadata": {
    "id": "3b06c86d-951b-40ee-a2da-6ed4522e06a9"
   },
   "source": [
    "## Import Libraries and Define Auxiliary Functions\n"
   ]
  },
  {
   "cell_type": "code",
   "execution_count": null,
   "metadata": {
    "colab": {
     "base_uri": "https://localhost:8080/"
    },
    "executionInfo": {
     "elapsed": 36182,
     "status": "ok",
     "timestamp": 1732122748490,
     "user": {
      "displayName": "Ricardo Lovatel",
      "userId": "16259493430366883967"
     },
     "user_tz": 180
    },
    "id": "44eec3f0-510b-4eeb-bf35-0eabc5f59a84",
    "outputId": "cedca10a-e6d2-4b90-d547-9d70a1f38637"
   },
   "outputs": [],
   "source": [
    "!pip install numpy\n",
    "!pip install pandas\n",
    "!pip install seaborn\n",
    "!pip install scikit-learn"
   ]
  },
  {
   "cell_type": "markdown",
   "metadata": {
    "id": "9499342d-e0c9-462e-8a60-e8ef2dad01ec"
   },
   "source": [
    "We will import the following libraries for the lab\n"
   ]
  },
  {
   "cell_type": "code",
   "execution_count": null,
   "metadata": {
    "executionInfo": {
     "elapsed": 4134,
     "status": "ok",
     "timestamp": 1732123118659,
     "user": {
      "displayName": "Ricardo Lovatel",
      "userId": "16259493430366883967"
     },
     "user_tz": 180
    },
    "id": "4caab29d-ae23-4596-8df1-9d9159198955"
   },
   "outputs": [],
   "source": [
    "# Pandas is a software library written for the Python programming language for data manipulation and analysis.\n",
    "import pandas as pd\n",
    "# NumPy is a library for the Python programming language, adding support for large, multi-dimensional arrays and matrices, along with a large collection of high-level mathematical functions to operate on these arrays\n",
    "import numpy as np\n",
    "# Matplotlib is a plotting library for python and pyplot gives us a MatLab like plotting framework. We will use this in our plotter function to plot data.\n",
    "import matplotlib.pyplot as plt\n",
    "#Seaborn is a Python data visualization library based on matplotlib. It provides a high-level interface for drawing attractive and informative statistical graphics\n",
    "import seaborn as sns\n",
    "# Preprocessing allows us to standarsize our data\n",
    "from sklearn import preprocessing\n",
    "# Allows us to split our data into training and testing data\n",
    "from sklearn.model_selection import train_test_split\n",
    "# Allows us to test parameters of classification algorithms and find the best one\n",
    "from sklearn.model_selection import GridSearchCV\n",
    "# Logistic Regression classification algorithm\n",
    "from sklearn.linear_model import LogisticRegression\n",
    "# Support Vector Machine classification algorithm\n",
    "from sklearn.svm import SVC\n",
    "# Decision Tree classification algorithm\n",
    "from sklearn.tree import DecisionTreeClassifier\n",
    "# K Nearest Neighbors classification algorithm\n",
    "from sklearn.neighbors import KNeighborsClassifier"
   ]
  },
  {
   "cell_type": "markdown",
   "metadata": {
    "id": "a1c928f1-2572-4479-a5de-7ea09e8e0999"
   },
   "source": [
    "This function is to plot the confusion matrix.\n"
   ]
  },
  {
   "cell_type": "code",
   "execution_count": null,
   "metadata": {
    "executionInfo": {
     "elapsed": 308,
     "status": "ok",
     "timestamp": 1732123141973,
     "user": {
      "displayName": "Ricardo Lovatel",
      "userId": "16259493430366883967"
     },
     "user_tz": 180
    },
    "id": "03e9fd3e-859c-4022-afc2-cb09f1cb3ac6"
   },
   "outputs": [],
   "source": [
    "def plot_confusion_matrix(y,y_predict):\n",
    "    \"this function plots the confusion matrix\"\n",
    "    from sklearn.metrics import confusion_matrix\n",
    "\n",
    "    cm = confusion_matrix(y, y_predict)\n",
    "    ax= plt.subplot()\n",
    "    sns.heatmap(cm, annot=True, ax = ax); #annot=True to annotate cells\n",
    "    ax.set_xlabel('Predicted labels')\n",
    "    ax.set_ylabel('True labels')\n",
    "    ax.set_title('Confusion Matrix');\n",
    "    ax.xaxis.set_ticklabels(['did not land', 'land']); ax.yaxis.set_ticklabels(['did not land', 'landed'])\n",
    "    plt.show()"
   ]
  },
  {
   "cell_type": "markdown",
   "metadata": {
    "id": "8891d26c-7bc2-407f-b1cb-1096104c51b7"
   },
   "source": [
    "## Load the dataframe\n"
   ]
  },
  {
   "cell_type": "markdown",
   "metadata": {
    "id": "d6ba1929-6af0-4f33-8d61-58a3507c24ed"
   },
   "source": [
    "Load the data\n"
   ]
  },
  {
   "cell_type": "code",
   "execution_count": null,
   "metadata": {
    "executionInfo": {
     "elapsed": 1110,
     "status": "ok",
     "timestamp": 1732123150972,
     "user": {
      "displayName": "Ricardo Lovatel",
      "userId": "16259493430366883967"
     },
     "user_tz": 180
    },
    "id": "9ad9ab5f-f7b3-48a0-89f5-a4d6839e1eae"
   },
   "outputs": [],
   "source": [
    "data = pd.read_csv(\"https://cf-courses-data.s3.us.cloud-object-storage.appdomain.cloud/IBM-DS0321EN-SkillsNetwork/datasets/dataset_part_2.csv\")\n"
   ]
  },
  {
   "cell_type": "code",
   "execution_count": null,
   "metadata": {
    "colab": {
     "base_uri": "https://localhost:8080/",
     "height": 313
    },
    "executionInfo": {
     "elapsed": 299,
     "status": "ok",
     "timestamp": 1732123157737,
     "user": {
      "displayName": "Ricardo Lovatel",
      "userId": "16259493430366883967"
     },
     "user_tz": 180
    },
    "id": "376e5f7a-8748-4393-bc8e-75a12d3e449d",
    "outputId": "ee2a1919-b991-4bc8-c551-4984a432688c"
   },
   "outputs": [],
   "source": [
    "data.head()"
   ]
  },
  {
   "cell_type": "code",
   "execution_count": null,
   "metadata": {
    "executionInfo": {
     "elapsed": 961,
     "status": "ok",
     "timestamp": 1732124841005,
     "user": {
      "displayName": "Ricardo Lovatel",
      "userId": "16259493430366883967"
     },
     "user_tz": 180
    },
    "id": "db4b7d5e-721f-46d0-bb6e-9053db3ed1cf"
   },
   "outputs": [],
   "source": [
    "\n",
    "X = pd.read_csv('https://cf-courses-data.s3.us.cloud-object-storage.appdomain.cloud/IBM-DS0321EN-SkillsNetwork/datasets/dataset_part_3.csv')"
   ]
  },
  {
   "cell_type": "code",
   "execution_count": null,
   "metadata": {
    "colab": {
     "base_uri": "https://localhost:8080/",
     "height": 461
    },
    "executionInfo": {
     "elapsed": 310,
     "status": "ok",
     "timestamp": 1732125036372,
     "user": {
      "displayName": "Ricardo Lovatel",
      "userId": "16259493430366883967"
     },
     "user_tz": 180
    },
    "id": "6fef4857-dd3c-4b50-b424-87825161d2e2",
    "outputId": "e5e0454e-9dfd-4cb0-f6fc-ba35f14b6c40"
   },
   "outputs": [],
   "source": [
    "X.head(100)"
   ]
  },
  {
   "cell_type": "markdown",
   "metadata": {
    "id": "12e2b717-f997-4c0d-9123-be41a04afb25"
   },
   "source": [
    "## TASK  1\n"
   ]
  },
  {
   "cell_type": "markdown",
   "metadata": {
    "id": "06f41a0e-c409-47a6-80af-deac6ff365db"
   },
   "source": [
    "Create a NumPy array from the column <code>Class</code> in <code>data</code>, by applying the method <code>to_numpy()</code>  then\n",
    "assign it  to the variable <code>Y</code>,make sure the output is a  Pandas series (only one bracket df\\['name of  column']).\n"
   ]
  },
  {
   "cell_type": "code",
   "execution_count": null,
   "metadata": {
    "executionInfo": {
     "elapsed": 311,
     "status": "ok",
     "timestamp": 1732125148528,
     "user": {
      "displayName": "Ricardo Lovatel",
      "userId": "16259493430366883967"
     },
     "user_tz": 180
    },
    "id": "039ea775-8819-4569-a224-ae4ec5dc2ac9"
   },
   "outputs": [],
   "source": [
    "y = data['Class'].to_numpy()"
   ]
  },
  {
   "cell_type": "code",
   "execution_count": null,
   "metadata": {
    "colab": {
     "base_uri": "https://localhost:8080/"
    },
    "executionInfo": {
     "elapsed": 395,
     "status": "ok",
     "timestamp": 1732125280728,
     "user": {
      "displayName": "Ricardo Lovatel",
      "userId": "16259493430366883967"
     },
     "user_tz": 180
    },
    "id": "MELzYpBntieL",
    "outputId": "9763bcd5-7ac8-4f1c-c5b4-a25a92404468"
   },
   "outputs": [],
   "source": [
    "y\n"
   ]
  },
  {
   "cell_type": "markdown",
   "metadata": {
    "id": "dc130f74-7361-40cc-bc61-6ae3ee6092c8"
   },
   "source": [
    "## TASK  2\n"
   ]
  },
  {
   "cell_type": "markdown",
   "metadata": {
    "id": "46b3affc-e178-4b39-ad4d-990cc3efdda3"
   },
   "source": [
    "Standardize the data in <code>X</code> then reassign it to the variable  <code>X</code> using the transform provided below.\n"
   ]
  },
  {
   "cell_type": "markdown",
   "metadata": {
    "id": "TC64lgcruTsf"
   },
   "source": []
  },
  {
   "cell_type": "code",
   "execution_count": null,
   "metadata": {
    "executionInfo": {
     "elapsed": 280,
     "status": "ok",
     "timestamp": 1732125503305,
     "user": {
      "displayName": "Ricardo Lovatel",
      "userId": "16259493430366883967"
     },
     "user_tz": 180
    },
    "id": "89dffddf-3bf9-4ede-a084-3b68e7f94099"
   },
   "outputs": [],
   "source": [
    "# students get this\n",
    "transform = preprocessing.StandardScaler()\n",
    "\n",
    "X = transform.fit_transform(X)"
   ]
  },
  {
   "cell_type": "markdown",
   "metadata": {
    "id": "8f92166b-d9dc-4fca-808a-5c4071277aba"
   },
   "source": [
    "We split the data into training and testing data using the  function  <code>train_test_split</code>.   The training data is divided into validation data, a second set used for training  data; then the models are trained and hyperparameters are selected using the function <code>GridSearchCV</code>.\n"
   ]
  },
  {
   "cell_type": "markdown",
   "metadata": {
    "id": "69e4c992-327f-4079-804a-c06eb30396a3"
   },
   "source": [
    "## TASK  3\n"
   ]
  },
  {
   "cell_type": "markdown",
   "metadata": {
    "id": "a608ea79-42b4-48c0-b333-dda4881dc396"
   },
   "source": [
    "Use the function train_test_split to split the data X and Y into training and test data. Set the parameter test_size to  0.2 and random_state to 2. The training data and test data should be assigned to the following labels.\n"
   ]
  },
  {
   "cell_type": "markdown",
   "metadata": {
    "id": "c9e2d81c-b278-4a62-ab2c-ba486a142479"
   },
   "source": [
    "<code>X_train, X_test, Y_train, Y_test</code>\n"
   ]
  },
  {
   "cell_type": "code",
   "execution_count": null,
   "metadata": {
    "executionInfo": {
     "elapsed": 442,
     "status": "ok",
     "timestamp": 1732126227353,
     "user": {
      "displayName": "Ricardo Lovatel",
      "userId": "16259493430366883967"
     },
     "user_tz": 180
    },
    "id": "5bc0d19f-0a8d-428a-a45f-45c44031e547"
   },
   "outputs": [],
   "source": [
    "X_train, X_test, Y_train, Y_test = train_test_split(X, y, test_size=0.2, random_state=2)"
   ]
  },
  {
   "cell_type": "markdown",
   "metadata": {
    "id": "26497149-9ba5-493f-93a4-0878428026c7"
   },
   "source": [
    "we can see we only have 18 test samples.\n"
   ]
  },
  {
   "cell_type": "code",
   "execution_count": null,
   "metadata": {
    "colab": {
     "base_uri": "https://localhost:8080/"
    },
    "executionInfo": {
     "elapsed": 1091,
     "status": "ok",
     "timestamp": 1732127637895,
     "user": {
      "displayName": "Ricardo Lovatel",
      "userId": "16259493430366883967"
     },
     "user_tz": 180
    },
    "id": "d6ef8752-33e1-461e-8bd6-37ce7c6924ad",
    "outputId": "7c0f405e-c7e2-4ac6-98d3-d0536a9f96fc"
   },
   "outputs": [],
   "source": [
    "Y_test.shape"
   ]
  },
  {
   "cell_type": "markdown",
   "metadata": {
    "id": "a043de94-f9e1-4409-8a1b-1a7c65df534b"
   },
   "source": [
    "## TASK  4\n"
   ]
  },
  {
   "cell_type": "markdown",
   "metadata": {
    "id": "8ec0eade-9f9b-4822-8fdd-1a0d3f6a8a50"
   },
   "source": [
    "Create a logistic regression object  then create a  GridSearchCV object  <code>logreg_cv</code> with cv = 10.  Fit the object to find the best parameters from the dictionary <code>parameters</code>.\n"
   ]
  },
  {
   "cell_type": "code",
   "execution_count": null,
   "metadata": {
    "executionInfo": {
     "elapsed": 306,
     "status": "ok",
     "timestamp": 1732127996603,
     "user": {
      "displayName": "Ricardo Lovatel",
      "userId": "16259493430366883967"
     },
     "user_tz": 180
    },
    "id": "6cdc3d44-3d9a-4f17-9427-d3f752e9a95c"
   },
   "outputs": [],
   "source": [
    "parameters ={'C':[0.01,0.1,1],\n",
    "             'penalty':['l2'],\n",
    "             'solver':['lbfgs']}"
   ]
  },
  {
   "cell_type": "code",
   "execution_count": null,
   "metadata": {
    "colab": {
     "base_uri": "https://localhost:8080/",
     "height": 159
    },
    "executionInfo": {
     "elapsed": 588,
     "status": "ok",
     "timestamp": 1732128259282,
     "user": {
      "displayName": "Ricardo Lovatel",
      "userId": "16259493430366883967"
     },
     "user_tz": 180
    },
    "id": "cd02ec7a-be5c-4751-a16e-f1e337c49dea",
    "outputId": "2631a08d-3b1e-4c32-e4ec-6810c62dce0e"
   },
   "outputs": [],
   "source": [
    "parameters ={\"C\":[0.01,0.1,1],'penalty':['l2'], 'solver':['lbfgs']}# l1 lasso l2 ridge\n",
    "lr=LogisticRegression()\n",
    "\n",
    "logreg_cv = GridSearchCV(lr, parameters, cv=10)\n",
    "logreg_cv.fit(X_train,Y_train)\n"
   ]
  },
  {
   "cell_type": "markdown",
   "metadata": {
    "id": "54d7c0a2-df47-4111-9bf6-b80b52a97009"
   },
   "source": [
    "We output the <code>GridSearchCV</code> object for logistic regression. We display the best parameters using the data attribute <code>best_params\\_</code> and the accuracy on the validation data using the data attribute <code>best_score\\_</code>.\n"
   ]
  },
  {
   "cell_type": "code",
   "execution_count": null,
   "metadata": {
    "colab": {
     "base_uri": "https://localhost:8080/"
    },
    "executionInfo": {
     "elapsed": 311,
     "status": "ok",
     "timestamp": 1732128268889,
     "user": {
      "displayName": "Ricardo Lovatel",
      "userId": "16259493430366883967"
     },
     "user_tz": 180
    },
    "id": "6248b592-036e-4aba-975f-dcac4247a33d",
    "outputId": "ec94e2b8-299b-4dde-d909-9455725e092d"
   },
   "outputs": [],
   "source": [
    "print(\"tuned hpyerparameters :(best parameters) \",logreg_cv.best_params_)\n",
    "print(\"accuracy :\",logreg_cv.best_score_)"
   ]
  },
  {
   "cell_type": "markdown",
   "metadata": {
    "id": "2d7184f6-0a0b-46e2-b86b-a472fdd6a612"
   },
   "source": [
    "## TASK  5\n"
   ]
  },
  {
   "cell_type": "markdown",
   "metadata": {
    "id": "c0cfaf44-81eb-4ec3-8ad8-38422645ef6d"
   },
   "source": [
    "Calculate the accuracy on the test data using the method <code>score</code>:\n"
   ]
  },
  {
   "cell_type": "code",
   "execution_count": null,
   "metadata": {
    "colab": {
     "base_uri": "https://localhost:8080/"
    },
    "executionInfo": {
     "elapsed": 325,
     "status": "ok",
     "timestamp": 1732128375372,
     "user": {
      "displayName": "Ricardo Lovatel",
      "userId": "16259493430366883967"
     },
     "user_tz": 180
    },
    "id": "208bd314-d75e-4d80-9252-b91923157370",
    "outputId": "049be388-5035-4047-e82d-88dc048fc77e"
   },
   "outputs": [],
   "source": [
    "test_score = logreg_cv.score(X_test, Y_test)\n",
    "test_score"
   ]
  },
  {
   "cell_type": "markdown",
   "metadata": {
    "id": "b2be74ac-f8e2-4fcd-8591-3b2b231868f5"
   },
   "source": [
    "Lets look at the confusion matrix:\n"
   ]
  },
  {
   "cell_type": "code",
   "execution_count": null,
   "metadata": {
    "colab": {
     "base_uri": "https://localhost:8080/",
     "height": 472
    },
    "executionInfo": {
     "elapsed": 331,
     "status": "ok",
     "timestamp": 1732128614978,
     "user": {
      "displayName": "Ricardo Lovatel",
      "userId": "16259493430366883967"
     },
     "user_tz": 180
    },
    "id": "5cdee79c-eb13-47c8-9537-e08181cfb0d2",
    "outputId": "46454f20-8bff-4f40-ba74-d012817c84fb"
   },
   "outputs": [],
   "source": [
    "yhat=logreg_cv.predict(X_test)\n",
    "plot_confusion_matrix(Y_test,yhat)"
   ]
  },
  {
   "cell_type": "markdown",
   "metadata": {
    "id": "65538872-ef72-4e75-b627-1b441dce5894"
   },
   "source": [
    "Examining the confusion matrix, we see that logistic regression can distinguish between the different classes.  We see that the problem is false positives.\n",
    "\n",
    "Overview:\n",
    "\n",
    "True Postive - 12 (True label is landed, Predicted label is also landed)\n",
    "\n",
    "False Postive - 3 (True label is not landed, Predicted label is landed)\n"
   ]
  },
  {
   "cell_type": "markdown",
   "metadata": {
    "id": "51c4b6e7-ba51-42a7-84b1-60aff5ca34b7"
   },
   "source": [
    "## TASK  6\n"
   ]
  },
  {
   "cell_type": "markdown",
   "metadata": {
    "id": "c4a2afbb-68b3-4e5c-9665-3e9a86946eee"
   },
   "source": [
    "Create a support vector machine object then  create a  <code>GridSearchCV</code> object  <code>svm_cv</code> with cv = 10.  Fit the object to find the best parameters from the dictionary <code>parameters</code>.\n"
   ]
  },
  {
   "cell_type": "code",
   "execution_count": null,
   "metadata": {
    "executionInfo": {
     "elapsed": 287,
     "status": "ok",
     "timestamp": 1732128759696,
     "user": {
      "displayName": "Ricardo Lovatel",
      "userId": "16259493430366883967"
     },
     "user_tz": 180
    },
    "id": "80369ec4-b0c1-48c7-86f9-6a905fb15203"
   },
   "outputs": [],
   "source": [
    "parameters = {'kernel':('linear', 'rbf','poly','rbf', 'sigmoid'),\n",
    "              'C': np.logspace(-3, 3, 5),\n",
    "              'gamma':np.logspace(-3, 3, 5)}\n",
    "svm = SVC()"
   ]
  },
  {
   "cell_type": "code",
   "execution_count": null,
   "metadata": {
    "colab": {
     "base_uri": "https://localhost:8080/",
     "height": 136
    },
    "executionInfo": {
     "elapsed": 3306,
     "status": "ok",
     "timestamp": 1732128850384,
     "user": {
      "displayName": "Ricardo Lovatel",
      "userId": "16259493430366883967"
     },
     "user_tz": 180
    },
    "id": "922a633d-ef69-43fa-a7a9-a708f4d0bbec",
    "outputId": "7f852515-e682-409d-f089-47e6e26bfa87"
   },
   "outputs": [],
   "source": [
    "svm_cv = GridSearchCV(svm, parameters, cv=10)\n",
    "svm_cv.fit(X_train, Y_train)"
   ]
  },
  {
   "cell_type": "code",
   "execution_count": null,
   "metadata": {
    "colab": {
     "base_uri": "https://localhost:8080/"
    },
    "executionInfo": {
     "elapsed": 276,
     "status": "ok",
     "timestamp": 1732129004766,
     "user": {
      "displayName": "Ricardo Lovatel",
      "userId": "16259493430366883967"
     },
     "user_tz": 180
    },
    "id": "07ebcbdd-2a91-4429-bdd9-73b108ef7cec",
    "outputId": "8100c44e-6e87-4f21-8223-0b40bb7d7aef"
   },
   "outputs": [],
   "source": [
    "print(\"tuned hpyerparameters :(best parameters) \",svm_cv.best_params_)\n",
    "print(\"accuracy :\",svm_cv.best_score_)"
   ]
  },
  {
   "cell_type": "markdown",
   "metadata": {
    "id": "96baf336-914a-44df-9368-3fd3aa85aea8"
   },
   "source": [
    "## TASK  7\n"
   ]
  },
  {
   "cell_type": "markdown",
   "metadata": {
    "id": "0c8c0243-e568-4b5b-8e16-be06a38bcbc3"
   },
   "source": [
    "Calculate the accuracy on the test data using the method <code>score</code>:\n"
   ]
  },
  {
   "cell_type": "code",
   "execution_count": null,
   "metadata": {
    "colab": {
     "base_uri": "https://localhost:8080/"
    },
    "executionInfo": {
     "elapsed": 296,
     "status": "ok",
     "timestamp": 1732129129255,
     "user": {
      "displayName": "Ricardo Lovatel",
      "userId": "16259493430366883967"
     },
     "user_tz": 180
    },
    "id": "d78b33a4-b235-45e2-80ef-bee4b11127ce",
    "outputId": "4befeb89-65be-45f3-e7dc-0f64b5c1d1a1"
   },
   "outputs": [],
   "source": [
    "test_score = svm_cv.score(X_test, Y_test)\n",
    "test_score"
   ]
  },
  {
   "cell_type": "markdown",
   "metadata": {
    "id": "54ed4766-02c6-4575-a469-d79ae2748dea"
   },
   "source": [
    "We can plot the confusion matrix\n"
   ]
  },
  {
   "cell_type": "code",
   "execution_count": null,
   "metadata": {
    "colab": {
     "base_uri": "https://localhost:8080/",
     "height": 472
    },
    "executionInfo": {
     "elapsed": 642,
     "status": "ok",
     "timestamp": 1732129170023,
     "user": {
      "displayName": "Ricardo Lovatel",
      "userId": "16259493430366883967"
     },
     "user_tz": 180
    },
    "id": "102e0b8a-4da2-4534-9b3d-b9752a5d99bc",
    "outputId": "7bd68631-772b-4c10-c0b9-8fad005faeb8"
   },
   "outputs": [],
   "source": [
    "yhat=svm_cv.predict(X_test)\n",
    "plot_confusion_matrix(Y_test,yhat)"
   ]
  },
  {
   "cell_type": "markdown",
   "metadata": {
    "id": "41cda5b1-827d-48f4-9f55-f57ca38d5e26"
   },
   "source": [
    "## TASK  8\n"
   ]
  },
  {
   "cell_type": "markdown",
   "metadata": {
    "id": "3e16de86-78d8-4538-8dbc-b5382446c665"
   },
   "source": [
    "Create a decision tree classifier object then  create a  <code>GridSearchCV</code> object  <code>tree_cv</code> with cv = 10.  Fit the object to find the best parameters from the dictionary <code>parameters</code>.\n"
   ]
  },
  {
   "cell_type": "code",
   "execution_count": null,
   "metadata": {
    "executionInfo": {
     "elapsed": 304,
     "status": "ok",
     "timestamp": 1732129182611,
     "user": {
      "displayName": "Ricardo Lovatel",
      "userId": "16259493430366883967"
     },
     "user_tz": 180
    },
    "id": "2c15ddc6-4851-43d1-8111-911d0be7d1a2"
   },
   "outputs": [],
   "source": [
    "parameters = {'criterion': ['gini', 'entropy'],\n",
    "     'splitter': ['best', 'random'],\n",
    "     'max_depth': [2*n for n in range(1,10)],\n",
    "     'max_features': ['auto', 'sqrt'],\n",
    "     'min_samples_leaf': [1, 2, 4],\n",
    "     'min_samples_split': [2, 5, 10]}\n",
    "\n",
    "tree = DecisionTreeClassifier()"
   ]
  },
  {
   "cell_type": "code",
   "execution_count": null,
   "metadata": {
    "colab": {
     "base_uri": "https://localhost:8080/",
     "height": 1000
    },
    "executionInfo": {
     "elapsed": 11354,
     "status": "ok",
     "timestamp": 1732130386776,
     "user": {
      "displayName": "Ricardo Lovatel",
      "userId": "16259493430366883967"
     },
     "user_tz": 180
    },
    "id": "0026e009-1db2-4875-9fe7-bb9c8509a715",
    "outputId": "80aa9035-66a4-4042-ac4a-5c044e95a6bf"
   },
   "outputs": [],
   "source": [
    "tree_cv = GridSearchCV(tree, parameters, cv=10)\n",
    "tree_cv.fit(X_train, Y_train)"
   ]
  },
  {
   "cell_type": "code",
   "execution_count": null,
   "metadata": {
    "colab": {
     "base_uri": "https://localhost:8080/"
    },
    "executionInfo": {
     "elapsed": 303,
     "status": "ok",
     "timestamp": 1732130451674,
     "user": {
      "displayName": "Ricardo Lovatel",
      "userId": "16259493430366883967"
     },
     "user_tz": 180
    },
    "id": "dc1dc465-a0d8-42f1-b2c0-0bdcceb6cdc7",
    "outputId": "65bbd2bc-dc17-4d4a-f303-11dc14fca57c"
   },
   "outputs": [],
   "source": [
    "print(\"tuned hpyerparameters :(best parameters) \",tree_cv.best_params_)\n",
    "print(\"accuracy :\",tree_cv.best_score_)"
   ]
  },
  {
   "cell_type": "markdown",
   "metadata": {
    "id": "fcf21ada-8efd-44eb-a9ec-0f0f45574323"
   },
   "source": [
    "## TASK  9\n"
   ]
  },
  {
   "cell_type": "markdown",
   "metadata": {
    "id": "001aae22-43d6-4a46-9a94-37bad6c006c8"
   },
   "source": [
    "Calculate the accuracy of tree_cv on the test data using the method <code>score</code>:\n"
   ]
  },
  {
   "cell_type": "code",
   "execution_count": null,
   "metadata": {
    "colab": {
     "base_uri": "https://localhost:8080/"
    },
    "executionInfo": {
     "elapsed": 324,
     "status": "ok",
     "timestamp": 1732130493586,
     "user": {
      "displayName": "Ricardo Lovatel",
      "userId": "16259493430366883967"
     },
     "user_tz": 180
    },
    "id": "b9faa351-3a58-414b-9a03-62fe99366149",
    "outputId": "b65a87f8-bb50-474b-9fcd-ec8d664ad5df"
   },
   "outputs": [],
   "source": [
    "test_score = tree_cv.score(X_test, Y_test)\n",
    "test_score"
   ]
  },
  {
   "cell_type": "markdown",
   "metadata": {
    "id": "5a86abd2-79ec-42f0-860d-c6e1d7c77548"
   },
   "source": [
    "We can plot the confusion matrix\n"
   ]
  },
  {
   "cell_type": "code",
   "execution_count": null,
   "metadata": {
    "colab": {
     "base_uri": "https://localhost:8080/",
     "height": 472
    },
    "executionInfo": {
     "elapsed": 370,
     "status": "ok",
     "timestamp": 1732130496309,
     "user": {
      "displayName": "Ricardo Lovatel",
      "userId": "16259493430366883967"
     },
     "user_tz": 180
    },
    "id": "6491e217-26b6-4fd3-afe5-0ff0bf052b3a",
    "outputId": "a7a663d5-3a79-4615-934c-e85e4adda1c2"
   },
   "outputs": [],
   "source": [
    "yhat = tree_cv.predict(X_test)\n",
    "plot_confusion_matrix(Y_test,yhat)"
   ]
  },
  {
   "cell_type": "markdown",
   "metadata": {
    "id": "1629474c-160a-4f0e-bde4-deb4627003c7"
   },
   "source": [
    "## TASK  10\n"
   ]
  },
  {
   "cell_type": "markdown",
   "metadata": {
    "id": "ad086059-51fb-4123-b658-7de8c3520d56"
   },
   "source": [
    "Create a k nearest neighbors object then  create a  <code>GridSearchCV</code> object  <code>knn_cv</code> with cv = 10.  Fit the object to find the best parameters from the dictionary <code>parameters</code>.\n"
   ]
  },
  {
   "cell_type": "code",
   "execution_count": null,
   "metadata": {
    "executionInfo": {
     "elapsed": 299,
     "status": "ok",
     "timestamp": 1732130507475,
     "user": {
      "displayName": "Ricardo Lovatel",
      "userId": "16259493430366883967"
     },
     "user_tz": 180
    },
    "id": "c9bee6f4-eb2c-4e1b-a7a7-ea33a02da2fb"
   },
   "outputs": [],
   "source": [
    "parameters = {'n_neighbors': [1, 2, 3, 4, 5, 6, 7, 8, 9, 10],\n",
    "              'algorithm': ['auto', 'ball_tree', 'kd_tree', 'brute'],\n",
    "              'p': [1,2]}\n",
    "\n",
    "KNN = KNeighborsClassifier()"
   ]
  },
  {
   "cell_type": "code",
   "execution_count": null,
   "metadata": {
    "colab": {
     "base_uri": "https://localhost:8080/",
     "height": 136
    },
    "executionInfo": {
     "elapsed": 2853,
     "status": "ok",
     "timestamp": 1732130534613,
     "user": {
      "displayName": "Ricardo Lovatel",
      "userId": "16259493430366883967"
     },
     "user_tz": 180
    },
    "id": "dbeb282e-8fe0-412c-bb63-b4c3dbb06ccb",
    "outputId": "4e447745-1ad7-41c7-dc70-5955c12552e6"
   },
   "outputs": [],
   "source": [
    "knn_cv = GridSearchCV(KNN, parameters, cv=10)\n",
    "knn_cv.fit(X_train, Y_train)"
   ]
  },
  {
   "cell_type": "code",
   "execution_count": null,
   "metadata": {
    "colab": {
     "base_uri": "https://localhost:8080/"
    },
    "executionInfo": {
     "elapsed": 286,
     "status": "ok",
     "timestamp": 1732130537695,
     "user": {
      "displayName": "Ricardo Lovatel",
      "userId": "16259493430366883967"
     },
     "user_tz": 180
    },
    "id": "3bc85f1b-44dc-4bea-9b30-4b1e5c280ed1",
    "outputId": "cb1dbb8f-80b7-4db5-b3a2-f7c9e4700c4d"
   },
   "outputs": [],
   "source": [
    "print(\"tuned hpyerparameters :(best parameters) \",knn_cv.best_params_)\n",
    "print(\"accuracy :\",knn_cv.best_score_)"
   ]
  },
  {
   "cell_type": "markdown",
   "metadata": {
    "id": "1221f93d-10cb-416a-8c85-0451d2fe8683"
   },
   "source": [
    "## TASK  11\n"
   ]
  },
  {
   "cell_type": "markdown",
   "metadata": {
    "id": "c152c97c-dea8-4aac-a9a3-3f25c25aa110"
   },
   "source": [
    "Calculate the accuracy of knn_cv on the test data using the method <code>score</code>:\n"
   ]
  },
  {
   "cell_type": "code",
   "execution_count": null,
   "metadata": {
    "colab": {
     "base_uri": "https://localhost:8080/"
    },
    "executionInfo": {
     "elapsed": 295,
     "status": "ok",
     "timestamp": 1732130566262,
     "user": {
      "displayName": "Ricardo Lovatel",
      "userId": "16259493430366883967"
     },
     "user_tz": 180
    },
    "id": "9ed9dc24-8ca9-42e6-a203-58c2191f0ab9",
    "outputId": "9afcc19d-0165-4fbf-ef90-eb4d383bc98e"
   },
   "outputs": [],
   "source": [
    "test_score = knn_cv.score(X_test, Y_test)\n",
    "test_score"
   ]
  },
  {
   "cell_type": "markdown",
   "metadata": {
    "id": "5bb5655e-35cc-4253-8f15-1c659d630700"
   },
   "source": [
    "We can plot the confusion matrix\n"
   ]
  },
  {
   "cell_type": "code",
   "execution_count": null,
   "metadata": {
    "colab": {
     "base_uri": "https://localhost:8080/",
     "height": 472
    },
    "executionInfo": {
     "elapsed": 386,
     "status": "ok",
     "timestamp": 1732130569414,
     "user": {
      "displayName": "Ricardo Lovatel",
      "userId": "16259493430366883967"
     },
     "user_tz": 180
    },
    "id": "6a07c84e-2a6e-483f-b4f3-94077270d1dc",
    "outputId": "b4cc9fbb-2ffd-44cc-b11a-245a04ffc70d"
   },
   "outputs": [],
   "source": [
    "yhat = knn_cv.predict(X_test)\n",
    "plot_confusion_matrix(Y_test,yhat)"
   ]
  },
  {
   "cell_type": "markdown",
   "metadata": {
    "id": "74d25ab0-c03c-48b3-b9b3-104a8ca94c99"
   },
   "source": [
    "## TASK  12\n"
   ]
  },
  {
   "cell_type": "markdown",
   "metadata": {
    "id": "78d09574-b978-47e9-b7ae-131d2702e239"
   },
   "source": [
    "Find the method performs best:\n"
   ]
  },
  {
   "cell_type": "code",
   "execution_count": null,
   "metadata": {
    "colab": {
     "base_uri": "https://localhost:8080/"
    },
    "executionInfo": {
     "elapsed": 280,
     "status": "ok",
     "timestamp": 1732130997877,
     "user": {
      "displayName": "Ricardo Lovatel",
      "userId": "16259493430366883967"
     },
     "user_tz": 180
    },
    "id": "9bc709fc-3de3-42a9-a5e1-4cfa59b66a01",
    "outputId": "6a875427-0e9b-4f73-808c-c8e9671a85f4"
   },
   "outputs": [],
   "source": [
    "knn_accuracy=knn_cv.score(X_test, Y_test)\n",
    "Decision_tree_accuracy=tree_cv.score(X_test, Y_test)\n",
    "SVM_accuracy=svm_cv.score(X_test, Y_test)\n",
    "Logistic_Regression=logreg_cv.score(X_test, Y_test)\n",
    "\n",
    "knn_accuracy, Decision_tree_accuracy, SVM_accuracy, Logistic_Regression"
   ]
  },
  {
   "cell_type": "markdown",
   "metadata": {
    "id": "923252c2-c51f-46f7-be0e-40832b38bf71"
   },
   "source": [
    "## Authors\n"
   ]
  },
  {
   "cell_type": "markdown",
   "metadata": {
    "id": "b2ec1e2e-4e7f-4a33-b787-f3af06a8b527"
   },
   "source": [
    "[Pratiksha Verma](https://www.linkedin.com/in/pratiksha-verma-6487561b1/)\n"
   ]
  },
  {
   "cell_type": "markdown",
   "metadata": {
    "id": "e1e0ad55-24f6-406f-b620-1558775d986a"
   },
   "source": [
    "<!--## Change Log--!>\n"
   ]
  },
  {
   "cell_type": "markdown",
   "metadata": {
    "id": "11941cb3-cdeb-4870-af80-e168e59119aa"
   },
   "source": [
    "<!--| Date (YYYY-MM-DD) | Version | Changed By      | Change Description      |\n",
    "| ----------------- | ------- | -------------   | ----------------------- |\n",
    "| 2022-11-09        | 1.0     | Pratiksha Verma | Converted initial version to Jupyterlite|--!>\n"
   ]
  },
  {
   "cell_type": "markdown",
   "metadata": {
    "id": "7ec9db51-67f3-46b1-8b94-2ed9c3e04eff"
   },
   "source": [
    "### <h3 align=\"center\"> IBM Corporation 2022. All rights reserved. <h3/>\n"
   ]
  }
 ],
 "metadata": {
  "colab": {
   "provenance": []
  },
  "kernelspec": {
   "display_name": "Python 3 (ipykernel)",
   "language": "python",
   "name": "python3"
  },
  "language_info": {
   "codemirror_mode": {
    "name": "ipython",
    "version": 3
   },
   "file_extension": ".py",
   "mimetype": "text/x-python",
   "name": "python",
   "nbconvert_exporter": "python",
   "pygments_lexer": "ipython3",
   "version": "3.11.9"
  },
  "prev_pub_hash": "a5501fb88ab5b5bde27c181e07a41075e752f0fd554f771678b28ad2c2bd9f21"
 },
 "nbformat": 4,
 "nbformat_minor": 0
}
